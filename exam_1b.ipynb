{
  "cells": [
    {
      "cell_type": "markdown",
      "metadata": {
        "id": "view-in-github",
        "colab_type": "text"
      },
      "source": [
        "<a href=\"https://colab.research.google.com/github/robitussin/CCINSYSL_EXAM/blob/main/exam_1b.ipynb\" target=\"_parent\"><img src=\"https://colab.research.google.com/assets/colab-badge.svg\" alt=\"Open In Colab\"/></a>"
      ]
    },
    {
      "cell_type": "markdown",
      "metadata": {
        "id": "aIobhe6tBTRX"
      },
      "source": [
        "# Midterm Exam 💙 💛"
      ]
    },
    {
      "cell_type": "markdown",
      "metadata": {
        "id": "XyxAF-bgBTRj"
      },
      "source": [
        "Instructions ❗️❗️\n",
        "\n",
        "❌ Do not remove or modify the notebook sections, subsections, exam questions or any text in this python notebook\n",
        "\n",
        "✔️ Put your answer in the designated cells below each question"
      ]
    },
    {
      "cell_type": "markdown",
      "metadata": {
        "id": "B9PNmA1LBTRk"
      },
      "source": [
        "## Linear Regression"
      ]
    },
    {
      "cell_type": "code",
      "execution_count": null,
      "metadata": {
        "id": "xrvylNEbBTRk"
      },
      "outputs": [],
      "source": [
        "import numpy as np\n",
        "import pandas as pd\n",
        "import matplotlib.pyplot as plt\n",
        "import seaborn as sns\n",
        "from tqdm import tqdm\n",
        "import random\n",
        "\n",
        "from sklearn.metrics import r2_score\n",
        "from sklearn.linear_model import LinearRegression\n",
        "from sklearn.model_selection import train_test_split\n",
        "from sklearn.datasets import load_diabetes\n",
        "from sklearn.preprocessing import MinMaxScaler"
      ]
    },
    {
      "cell_type": "code",
      "execution_count": null,
      "metadata": {
        "id": "JNOZ-cYxBTRl"
      },
      "outputs": [],
      "source": [
        "df = load_diabetes(as_frame=True, scaled=False)\n",
        "df = df['frame']"
      ]
    },
    {
      "cell_type": "code",
      "execution_count": null,
      "metadata": {
        "id": "P_cLrNp1BTRm",
        "outputId": "26be3c2a-9c59-40e9-f754-37d5abf6174e"
      },
      "outputs": [
        {
          "data": {
            "text/html": [
              "<div>\n",
              "<style scoped>\n",
              "    .dataframe tbody tr th:only-of-type {\n",
              "        vertical-align: middle;\n",
              "    }\n",
              "\n",
              "    .dataframe tbody tr th {\n",
              "        vertical-align: top;\n",
              "    }\n",
              "\n",
              "    .dataframe thead th {\n",
              "        text-align: right;\n",
              "    }\n",
              "</style>\n",
              "<table border=\"1\" class=\"dataframe\">\n",
              "  <thead>\n",
              "    <tr style=\"text-align: right;\">\n",
              "      <th></th>\n",
              "      <th>age</th>\n",
              "      <th>sex</th>\n",
              "      <th>bmi</th>\n",
              "      <th>bp</th>\n",
              "      <th>s1</th>\n",
              "      <th>s2</th>\n",
              "      <th>s3</th>\n",
              "      <th>s4</th>\n",
              "      <th>s5</th>\n",
              "      <th>s6</th>\n",
              "      <th>target</th>\n",
              "    </tr>\n",
              "  </thead>\n",
              "  <tbody>\n",
              "    <tr>\n",
              "      <th>0</th>\n",
              "      <td>59.0</td>\n",
              "      <td>2.0</td>\n",
              "      <td>32.1</td>\n",
              "      <td>101.0</td>\n",
              "      <td>157.0</td>\n",
              "      <td>93.2</td>\n",
              "      <td>38.0</td>\n",
              "      <td>4.0</td>\n",
              "      <td>4.8598</td>\n",
              "      <td>87.0</td>\n",
              "      <td>151.0</td>\n",
              "    </tr>\n",
              "    <tr>\n",
              "      <th>1</th>\n",
              "      <td>48.0</td>\n",
              "      <td>1.0</td>\n",
              "      <td>21.6</td>\n",
              "      <td>87.0</td>\n",
              "      <td>183.0</td>\n",
              "      <td>103.2</td>\n",
              "      <td>70.0</td>\n",
              "      <td>3.0</td>\n",
              "      <td>3.8918</td>\n",
              "      <td>69.0</td>\n",
              "      <td>75.0</td>\n",
              "    </tr>\n",
              "    <tr>\n",
              "      <th>2</th>\n",
              "      <td>72.0</td>\n",
              "      <td>2.0</td>\n",
              "      <td>30.5</td>\n",
              "      <td>93.0</td>\n",
              "      <td>156.0</td>\n",
              "      <td>93.6</td>\n",
              "      <td>41.0</td>\n",
              "      <td>4.0</td>\n",
              "      <td>4.6728</td>\n",
              "      <td>85.0</td>\n",
              "      <td>141.0</td>\n",
              "    </tr>\n",
              "    <tr>\n",
              "      <th>3</th>\n",
              "      <td>24.0</td>\n",
              "      <td>1.0</td>\n",
              "      <td>25.3</td>\n",
              "      <td>84.0</td>\n",
              "      <td>198.0</td>\n",
              "      <td>131.4</td>\n",
              "      <td>40.0</td>\n",
              "      <td>5.0</td>\n",
              "      <td>4.8903</td>\n",
              "      <td>89.0</td>\n",
              "      <td>206.0</td>\n",
              "    </tr>\n",
              "    <tr>\n",
              "      <th>4</th>\n",
              "      <td>50.0</td>\n",
              "      <td>1.0</td>\n",
              "      <td>23.0</td>\n",
              "      <td>101.0</td>\n",
              "      <td>192.0</td>\n",
              "      <td>125.4</td>\n",
              "      <td>52.0</td>\n",
              "      <td>4.0</td>\n",
              "      <td>4.2905</td>\n",
              "      <td>80.0</td>\n",
              "      <td>135.0</td>\n",
              "    </tr>\n",
              "  </tbody>\n",
              "</table>\n",
              "</div>"
            ],
            "text/plain": [
              "    age  sex   bmi     bp     s1     s2    s3   s4      s5    s6  target\n",
              "0  59.0  2.0  32.1  101.0  157.0   93.2  38.0  4.0  4.8598  87.0   151.0\n",
              "1  48.0  1.0  21.6   87.0  183.0  103.2  70.0  3.0  3.8918  69.0    75.0\n",
              "2  72.0  2.0  30.5   93.0  156.0   93.6  41.0  4.0  4.6728  85.0   141.0\n",
              "3  24.0  1.0  25.3   84.0  198.0  131.4  40.0  5.0  4.8903  89.0   206.0\n",
              "4  50.0  1.0  23.0  101.0  192.0  125.4  52.0  4.0  4.2905  80.0   135.0"
            ]
          },
          "execution_count": 3,
          "metadata": {},
          "output_type": "execute_result"
        }
      ],
      "source": [
        "df.head()"
      ]
    },
    {
      "cell_type": "code",
      "execution_count": null,
      "metadata": {
        "id": "Hck2icFVBTRm",
        "outputId": "5d1589f7-09ec-47b1-cac1-e93194a18948"
      },
      "outputs": [
        {
          "name": "stdout",
          "output_type": "stream",
          "text": [
            "<class 'pandas.core.frame.DataFrame'>\n",
            "RangeIndex: 442 entries, 0 to 441\n",
            "Data columns (total 11 columns):\n",
            " #   Column  Non-Null Count  Dtype  \n",
            "---  ------  --------------  -----  \n",
            " 0   age     442 non-null    float64\n",
            " 1   sex     442 non-null    float64\n",
            " 2   bmi     442 non-null    float64\n",
            " 3   bp      442 non-null    float64\n",
            " 4   s1      442 non-null    float64\n",
            " 5   s2      442 non-null    float64\n",
            " 6   s3      442 non-null    float64\n",
            " 7   s4      442 non-null    float64\n",
            " 8   s5      442 non-null    float64\n",
            " 9   s6      442 non-null    float64\n",
            " 10  target  442 non-null    float64\n",
            "dtypes: float64(11)\n",
            "memory usage: 38.1 KB\n"
          ]
        }
      ],
      "source": [
        "df.info()"
      ]
    },
    {
      "cell_type": "markdown",
      "metadata": {
        "id": "-tGXZzFaBTRm"
      },
      "source": [
        "1. Display the correlation of all features in the dataset using the `.corr()` function. `(5 points)`"
      ]
    },
    {
      "cell_type": "code",
      "execution_count": null,
      "metadata": {
        "id": "unCOZiXFBTRn"
      },
      "outputs": [],
      "source": [
        "# put your answer here"
      ]
    },
    {
      "cell_type": "markdown",
      "metadata": {
        "id": "kAnJMwAdBTRn"
      },
      "source": [
        "2. Using `sns.heatmap()`, draw a heatmap of the correlation of all features of the dataset. `(5 points)`\n",
        "\n",
        " - Set the `annot` parameter to **True**"
      ]
    },
    {
      "cell_type": "code",
      "execution_count": null,
      "metadata": {
        "id": "w_wK6LCPBTRn",
        "outputId": "bea62a53-35f0-41e0-a3a2-d57b7f58e467"
      },
      "outputs": [
        {
          "data": {
            "text/plain": [
              "<Figure size 1500x1500 with 0 Axes>"
            ]
          },
          "execution_count": 6,
          "metadata": {},
          "output_type": "execute_result"
        },
        {
          "data": {
            "text/plain": [
              "<Figure size 1500x1500 with 0 Axes>"
            ]
          },
          "metadata": {},
          "output_type": "display_data"
        }
      ],
      "source": [
        "plt.figure(figsize=(15, 15))\n",
        "\n",
        "# put your answer here\n"
      ]
    },
    {
      "cell_type": "markdown",
      "metadata": {
        "id": "oFbycLk7BTRn"
      },
      "source": [
        "3. Split the data set into a training and test set. `(5 points)`"
      ]
    },
    {
      "cell_type": "code",
      "execution_count": null,
      "metadata": {
        "id": "GrpJCiuiBTRn"
      },
      "outputs": [],
      "source": [
        "# put your answer here"
      ]
    },
    {
      "cell_type": "markdown",
      "metadata": {
        "id": "WeqTd8AiBTRn"
      },
      "source": [
        "4. Use the `the MinMaxScaler()` method to scale down the training and test set. `(5 points)`"
      ]
    },
    {
      "cell_type": "code",
      "execution_count": null,
      "metadata": {
        "id": "xekIbG7EBTRn"
      },
      "outputs": [],
      "source": [
        "# put your answer here"
      ]
    },
    {
      "cell_type": "markdown",
      "metadata": {
        "id": "HiJjAVVqBTRo"
      },
      "source": [
        "5. Create a new instance of the `LinearRegression` class. `(5 points)`"
      ]
    },
    {
      "cell_type": "code",
      "execution_count": null,
      "metadata": {
        "id": "OdJLMS0lBTRo"
      },
      "outputs": [],
      "source": [
        "# put your answer here"
      ]
    },
    {
      "cell_type": "markdown",
      "metadata": {
        "id": "qRuj1WzJBTRo"
      },
      "source": [
        "6. Use the `fit()` method to train the linear regression model using the scaled training set. `(5 points)`"
      ]
    },
    {
      "cell_type": "code",
      "execution_count": null,
      "metadata": {
        "id": "c9WSjNVpBTRo"
      },
      "outputs": [],
      "source": [
        "# put your answer here"
      ]
    },
    {
      "cell_type": "markdown",
      "metadata": {
        "id": "d7t7gWHQBTRo"
      },
      "source": [
        "7. Use the `predict()` method to make predictions using the scaled test set. `(5 points)`"
      ]
    },
    {
      "cell_type": "code",
      "execution_count": null,
      "metadata": {
        "id": "nGqIgRDkBTRo"
      },
      "outputs": [],
      "source": [
        "# put your answer here"
      ]
    },
    {
      "cell_type": "markdown",
      "metadata": {
        "id": "y1rV0xi1BTRo"
      },
      "source": [
        "8. Display the intercept, slope and $R^2$. `(5 points)`"
      ]
    },
    {
      "cell_type": "code",
      "execution_count": null,
      "metadata": {
        "id": "6pDgtmtaBTRo"
      },
      "outputs": [],
      "source": [
        "# put your answer here"
      ]
    },
    {
      "cell_type": "markdown",
      "metadata": {
        "id": "TTj4CYwHBTRo"
      },
      "source": [
        "9. Write a `normal_equation()` function that will return the intercept and coefficients/slopes. `(5 points)`"
      ]
    },
    {
      "cell_type": "code",
      "execution_count": null,
      "metadata": {
        "id": "AyQuhR02BTRo"
      },
      "outputs": [],
      "source": [
        "# put your answer here"
      ]
    },
    {
      "cell_type": "markdown",
      "metadata": {
        "id": "hDQZ6AZdBTRp"
      },
      "source": [
        "10. Call the `normal_equation()` function and pass the scaled training set. Display the intercept and slopes. `(5 points)`"
      ]
    },
    {
      "cell_type": "code",
      "execution_count": null,
      "metadata": {
        "id": "jcKOCJCoBTRp"
      },
      "outputs": [],
      "source": [
        "# Put your answer here"
      ]
    }
  ],
  "metadata": {
    "kernelspec": {
      "display_name": "Python 3",
      "language": "python",
      "name": "python3"
    },
    "language_info": {
      "codemirror_mode": {
        "name": "ipython",
        "version": 3
      },
      "file_extension": ".py",
      "mimetype": "text/x-python",
      "name": "python",
      "nbconvert_exporter": "python",
      "pygments_lexer": "ipython3",
      "version": "3.9.13"
    },
    "orig_nbformat": 4,
    "colab": {
      "provenance": [],
      "include_colab_link": true
    }
  },
  "nbformat": 4,
  "nbformat_minor": 0
}